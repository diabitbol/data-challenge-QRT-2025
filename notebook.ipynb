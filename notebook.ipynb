{
 "cells": [
  {
   "cell_type": "code",
   "execution_count": 1,
   "id": "2361df3f-85aa-4128-9cba-c16db946c72d",
   "metadata": {},
   "outputs": [
    {
     "name": "stdout",
     "output_type": "stream",
     "text": [
      "Requirement already satisfied: pandas in /opt/python/lib/python3.13/site-packages (2.3.3)\n",
      "Requirement already satisfied: numpy>=1.26.0 in /opt/python/lib/python3.13/site-packages (from pandas) (2.3.3)\n",
      "Requirement already satisfied: python-dateutil>=2.8.2 in /opt/python/lib/python3.13/site-packages (from pandas) (2.9.0.post0)\n",
      "Requirement already satisfied: pytz>=2020.1 in /opt/python/lib/python3.13/site-packages (from pandas) (2025.2)\n",
      "Requirement already satisfied: tzdata>=2022.7 in /opt/python/lib/python3.13/site-packages (from pandas) (2025.2)\n",
      "Requirement already satisfied: six>=1.5 in /opt/python/lib/python3.13/site-packages (from python-dateutil>=2.8.2->pandas) (1.17.0)\n"
     ]
    }
   ],
   "source": [
    "!pip install pandas"
   ]
  },
  {
   "cell_type": "code",
   "execution_count": 5,
   "id": "41b039b3-4c91-4c28-8868-1bec0495e160",
   "metadata": {},
   "outputs": [],
   "source": [
    "import pandas as pd\n",
    "\n",
    "random_download = pd.read_csv(\"data/submission/random_submission_dl.csv\")\n",
    "random = pd.read_csv(\"data/submission/random_submission.csv\")\n",
    "benchmark = pd.read_csv(\"data/submission/benchmark_submission.csv\")"
   ]
  },
  {
   "cell_type": "code",
   "execution_count": 36,
   "id": "70b96309-da21-48d2-b97b-258ccba15e3f",
   "metadata": {},
   "outputs": [],
   "source": [
    "random = random.rename(columns={\"OS_YEARS\": \"risk_score\"})\n",
    "benchmark = benchmark.rename(columns={\"OS_YEARS\": \"risk_score\"})"
   ]
  },
  {
   "cell_type": "code",
   "execution_count": 37,
   "id": "0395518b-b7cf-4c3d-9fff-2946f1a69d47",
   "metadata": {},
   "outputs": [
    {
     "data": {
      "text/html": [
       "<div>\n",
       "<style scoped>\n",
       "    .dataframe tbody tr th:only-of-type {\n",
       "        vertical-align: middle;\n",
       "    }\n",
       "\n",
       "    .dataframe tbody tr th {\n",
       "        vertical-align: top;\n",
       "    }\n",
       "\n",
       "    .dataframe thead th {\n",
       "        text-align: right;\n",
       "    }\n",
       "</style>\n",
       "<table border=\"1\" class=\"dataframe\">\n",
       "  <thead>\n",
       "    <tr style=\"text-align: right;\">\n",
       "      <th></th>\n",
       "      <th>ID</th>\n",
       "      <th>risk_score</th>\n",
       "    </tr>\n",
       "  </thead>\n",
       "  <tbody>\n",
       "    <tr>\n",
       "      <th>1188</th>\n",
       "      <td>KYW1189</td>\n",
       "      <td>0.482503</td>\n",
       "    </tr>\n",
       "    <tr>\n",
       "      <th>1189</th>\n",
       "      <td>KYW1190</td>\n",
       "      <td>0.809698</td>\n",
       "    </tr>\n",
       "    <tr>\n",
       "      <th>1190</th>\n",
       "      <td>KYW1191</td>\n",
       "      <td>0.907722</td>\n",
       "    </tr>\n",
       "    <tr>\n",
       "      <th>1191</th>\n",
       "      <td>KYW1192</td>\n",
       "      <td>0.247228</td>\n",
       "    </tr>\n",
       "    <tr>\n",
       "      <th>1192</th>\n",
       "      <td>KYW1193</td>\n",
       "      <td>0.171141</td>\n",
       "    </tr>\n",
       "  </tbody>\n",
       "</table>\n",
       "</div>"
      ],
      "text/plain": [
       "           ID  risk_score\n",
       "1188  KYW1189    0.482503\n",
       "1189  KYW1190    0.809698\n",
       "1190  KYW1191    0.907722\n",
       "1191  KYW1192    0.247228\n",
       "1192  KYW1193    0.171141"
      ]
     },
     "execution_count": 37,
     "metadata": {},
     "output_type": "execute_result"
    }
   ],
   "source": [
    "random_download.tail()"
   ]
  },
  {
   "cell_type": "code",
   "execution_count": 38,
   "id": "9412d5be-74b0-45fd-bb64-65788a7a450f",
   "metadata": {},
   "outputs": [
    {
     "data": {
      "text/html": [
       "<div>\n",
       "<style scoped>\n",
       "    .dataframe tbody tr th:only-of-type {\n",
       "        vertical-align: middle;\n",
       "    }\n",
       "\n",
       "    .dataframe tbody tr th {\n",
       "        vertical-align: top;\n",
       "    }\n",
       "\n",
       "    .dataframe thead th {\n",
       "        text-align: right;\n",
       "    }\n",
       "</style>\n",
       "<table border=\"1\" class=\"dataframe\">\n",
       "  <thead>\n",
       "    <tr style=\"text-align: right;\">\n",
       "      <th></th>\n",
       "      <th>ID</th>\n",
       "      <th>risk_score</th>\n",
       "    </tr>\n",
       "  </thead>\n",
       "  <tbody>\n",
       "    <tr>\n",
       "      <th>1188</th>\n",
       "      <td>KYW1189</td>\n",
       "      <td>0.277032</td>\n",
       "    </tr>\n",
       "    <tr>\n",
       "      <th>1189</th>\n",
       "      <td>KYW1190</td>\n",
       "      <td>0.275477</td>\n",
       "    </tr>\n",
       "    <tr>\n",
       "      <th>1190</th>\n",
       "      <td>KYW1191</td>\n",
       "      <td>0.233604</td>\n",
       "    </tr>\n",
       "    <tr>\n",
       "      <th>1191</th>\n",
       "      <td>KYW1192</td>\n",
       "      <td>0.350032</td>\n",
       "    </tr>\n",
       "    <tr>\n",
       "      <th>1192</th>\n",
       "      <td>KYW1193</td>\n",
       "      <td>0.646060</td>\n",
       "    </tr>\n",
       "  </tbody>\n",
       "</table>\n",
       "</div>"
      ],
      "text/plain": [
       "           ID  risk_score\n",
       "1188  KYW1189    0.277032\n",
       "1189  KYW1190    0.275477\n",
       "1190  KYW1191    0.233604\n",
       "1191  KYW1192    0.350032\n",
       "1192  KYW1193    0.646060"
      ]
     },
     "execution_count": 38,
     "metadata": {},
     "output_type": "execute_result"
    }
   ],
   "source": [
    "random.tail()"
   ]
  },
  {
   "cell_type": "code",
   "execution_count": 39,
   "id": "9dda9f92-3a9f-452c-b84e-5f12fa7f54af",
   "metadata": {},
   "outputs": [
    {
     "data": {
      "text/html": [
       "<div>\n",
       "<style scoped>\n",
       "    .dataframe tbody tr th:only-of-type {\n",
       "        vertical-align: middle;\n",
       "    }\n",
       "\n",
       "    .dataframe tbody tr th {\n",
       "        vertical-align: top;\n",
       "    }\n",
       "\n",
       "    .dataframe thead th {\n",
       "        text-align: right;\n",
       "    }\n",
       "</style>\n",
       "<table border=\"1\" class=\"dataframe\">\n",
       "  <thead>\n",
       "    <tr style=\"text-align: right;\">\n",
       "      <th></th>\n",
       "      <th>ID</th>\n",
       "      <th>risk_score</th>\n",
       "    </tr>\n",
       "  </thead>\n",
       "  <tbody>\n",
       "    <tr>\n",
       "      <th>1188</th>\n",
       "      <td>KYW1189</td>\n",
       "      <td>-1.566600</td>\n",
       "    </tr>\n",
       "    <tr>\n",
       "      <th>1189</th>\n",
       "      <td>KYW1190</td>\n",
       "      <td>-1.442281</td>\n",
       "    </tr>\n",
       "    <tr>\n",
       "      <th>1190</th>\n",
       "      <td>KYW1191</td>\n",
       "      <td>-1.690919</td>\n",
       "    </tr>\n",
       "    <tr>\n",
       "      <th>1191</th>\n",
       "      <td>KYW1192</td>\n",
       "      <td>-1.442281</td>\n",
       "    </tr>\n",
       "    <tr>\n",
       "      <th>1192</th>\n",
       "      <td>KYW1193</td>\n",
       "      <td>-1.566600</td>\n",
       "    </tr>\n",
       "  </tbody>\n",
       "</table>\n",
       "</div>"
      ],
      "text/plain": [
       "           ID  risk_score\n",
       "1188  KYW1189   -1.566600\n",
       "1189  KYW1190   -1.442281\n",
       "1190  KYW1191   -1.690919\n",
       "1191  KYW1192   -1.442281\n",
       "1192  KYW1193   -1.566600"
      ]
     },
     "execution_count": 39,
     "metadata": {},
     "output_type": "execute_result"
    }
   ],
   "source": [
    "benchmark.tail()"
   ]
  },
  {
   "cell_type": "code",
   "execution_count": 40,
   "id": "11dc6990-a95c-4df9-a3a7-ec77fddfd75d",
   "metadata": {},
   "outputs": [
    {
     "ename": "NameError",
     "evalue": "name 'banchmark' is not defined",
     "output_type": "error",
     "traceback": [
      "\u001b[31m---------------------------------------------------------------------------\u001b[39m",
      "\u001b[31mNameError\u001b[39m                                 Traceback (most recent call last)",
      "\u001b[36mCell\u001b[39m\u001b[36m \u001b[39m\u001b[32mIn[40]\u001b[39m\u001b[32m, line 1\u001b[39m\n\u001b[32m----> \u001b[39m\u001b[32m1\u001b[39m s1, s2 = random[\u001b[33m'\u001b[39m\u001b[33mID\u001b[39m\u001b[33m'\u001b[39m], \u001b[43mbanchmark\u001b[49m[\u001b[33m'\u001b[39m\u001b[33mID\u001b[39m\u001b[33m'\u001b[39m]\n\u001b[32m      2\u001b[39m set2, set1 = \u001b[38;5;28mset\u001b[39m(s2), \u001b[38;5;28mset\u001b[39m(s1)\n\u001b[32m      4\u001b[39m out = []\n",
      "\u001b[31mNameError\u001b[39m: name 'banchmark' is not defined"
     ]
    }
   ],
   "source": [
    "s1, s2 = random['ID'], banchmark['ID']\n",
    "set2, set1 = set(s2), set(s1)\n",
    "\n",
    "out = []\n",
    "seen = set()\n",
    "for x in s1:\n",
    "    if x not in set2 and x not in seen:\n",
    "        out.append(x); seen.add(x)\n",
    "for x in s2:\n",
    "    if x not in set1 and x not in seen:\n",
    "        out.append(x); seen.add(x)\n",
    "\n",
    "ids_not_in_both_ordered = pd.Series(out, name='ID')\n"
   ]
  },
  {
   "cell_type": "markdown",
   "id": "ed29a7bc-050e-4bb3-8714-df8a04be0145",
   "metadata": {},
   "source": []
  }
 ],
 "metadata": {
  "kernelspec": {
   "display_name": "Python 3 (ipykernel)",
   "language": "python",
   "name": "python3"
  },
  "language_info": {
   "codemirror_mode": {
    "name": "ipython",
    "version": 3
   },
   "file_extension": ".py",
   "mimetype": "text/x-python",
   "name": "python",
   "nbconvert_exporter": "python",
   "pygments_lexer": "ipython3",
   "version": "3.13.7"
  }
 },
 "nbformat": 4,
 "nbformat_minor": 5
}
